{
 "cells": [
  {
   "cell_type": "markdown",
   "metadata": {},
   "source": [
    "# Resources\n",
    "\n",
    "Brilliant talk by Ben Moseley on PINN:\n",
    "https://www.youtube.com/watch?v=G_hIppUWcsc"
   ]
  },
  {
   "cell_type": "markdown",
   "metadata": {},
   "source": [
    "# Install necessary pip modules/packages\n",
    "\n",
    "Using good ipynb practise:\n",
    "https://jakevdp.github.io/blog/2017/12/05/installing-python-packages-from-jupyter/\n",
    "\n",
    "Install the necessary pip packages and modules using pip in the virtual environment (ensure README.md has been followed):"
   ]
  },
  {
   "cell_type": "code",
   "execution_count": null,
   "metadata": {},
   "outputs": [],
   "source": [
    "import sys\n",
    "!{sys.executable} -m pip install -r requirements.txt"
   ]
  },
  {
   "cell_type": "markdown",
   "metadata": {},
   "source": [
    "Import the necessary packages and modules:"
   ]
  },
  {
   "cell_type": "code",
   "execution_count": 31,
   "metadata": {},
   "outputs": [],
   "source": [
    "import torch\n",
    "import torch.nn as nn\n",
    "import numpy as np\n",
    "import matplotlib.pyplot as plt"
   ]
  },
  {
   "cell_type": "markdown",
   "metadata": {},
   "source": [
    "Check that cuda and gpu is available."
   ]
  },
  {
   "cell_type": "code",
   "execution_count": null,
   "metadata": {},
   "outputs": [],
   "source": [
    "torch.cuda.is_available()\n",
    "torch.cuda.device_count()"
   ]
  },
  {
   "cell_type": "markdown",
   "metadata": {},
   "source": [
    "# Analytic solution to damped harmonic oscillator"
   ]
  },
  {
   "cell_type": "code",
   "execution_count": 33,
   "metadata": {},
   "outputs": [],
   "source": [
    "def exact_solution_underdamped(d, w0, t):\n",
    "    assert d < w0  # ensure under-damped case (gives oscillatory motion)\n",
    "\n",
    "    w = np.sqrt(w0**2 - d**2)\n",
    "    phi = np.arctan(-d/w)  # phase\n",
    "    \n",
    "    exp_term = np.exp(-d*t)\n",
    "    A = 1.0/(2.0*np.cos(phi))\n",
    "    cos_term = np.cos(phi + w*t)\n",
    "\n",
    "    u = exp_term * 2.0 * A * cos_term\n",
    "    return u"
   ]
  },
  {
   "cell_type": "markdown",
   "metadata": {},
   "source": [
    "Assume m=1 then:\n",
    "\n",
    "d = mu/(2*m)    =>  mu = 2d\n",
    "w0 = sqrt(k/m)  =>  k = w0**2"
   ]
  },
  {
   "cell_type": "markdown",
   "metadata": {},
   "source": [
    "Plot some of the exact solutions to get a feel for the solution."
   ]
  },
  {
   "cell_type": "code",
   "execution_count": 45,
   "metadata": {},
   "outputs": [],
   "source": [
    "t_test1 = np.linspace(0, 1, 300)\n",
    "\n",
    "# Control case: d, w0 = 2, 20\n",
    "d, w0 = 2, 20\n",
    "mu, k = 2.0*d, w0**2\n",
    "u_exact_d_2_w0_20 = exact_solution_underdamped(d, w0, t_test1)\n",
    "\n",
    "# Higher damping (higher d):  d, w0 = 4, 20\n",
    "d, w0 = 4, 20\n",
    "mu, k = 2.0*d, w0**2\n",
    "u_exact_d_4_w0_20 = exact_solution_underdamped(d, w0, t_test1)\n",
    "\n",
    "# Higher spring constant (higher w0):  \n",
    "d, w0 = 2, 40\n",
    "mu, k = 2.0*d, w0**2\n",
    "u_exact_d_2_w0_40 = exact_solution_underdamped(d, w0, t_test1)"
   ]
  },
  {
   "cell_type": "code",
   "execution_count": null,
   "metadata": {},
   "outputs": [],
   "source": [
    "plt.scatter(t_test1, u_exact_d_2_w0_20, label=\"d=2 w0=20 (Control)\")\n",
    "plt.scatter(t_test1, u_exact_d_4_w0_20, label=\"d=4 w0=20 (High damping)\")\n",
    "plt.scatter(t_test1, u_exact_d_2_w0_40, label=\"d=2 w0=40 (Higher spring constant/frequency)\")\n",
    "plt.legend()\n",
    "plt.show()"
   ]
  },
  {
   "cell_type": "markdown",
   "metadata": {},
   "source": [
    "# Simple fully connected neural network\n",
    "\n",
    "Define a simple, fully connected neural network with variable number of hidden layers.  This NN will be trained on the analytic results using the physics-informed loss function (not defined yet) which is composed of 2 loss terms: L_data and L_model."
   ]
  },
  {
   "cell_type": "code",
   "execution_count": 10,
   "metadata": {},
   "outputs": [],
   "source": [
    "class fully_connected_network(nn.Module):\n",
    "    \"\"\"\n",
    "    Define a simple fully-connected network in Pytorch with takes a 1D tensor as input and outputs a 1D tensor as output.\n",
    "    \n",
    "    Arguments:\n",
    "    - n_input  : size of the input 1D tensor\n",
    "    - n_output : size of the output 1D tensor\n",
    "    - n_hidden : size of the 1D hidden layers\n",
    "    - n_hidden_layers : number of hidden layers\n",
    "    \"\"\"\n",
    "    \n",
    "    def __init__(self, n_input, n_output, n_hidden, n_hidden_layers):\n",
    "        super(fully_connected_network, self).__init__()\n",
    "        \n",
    "        activation = nn.Tanh\n",
    "        \n",
    "        self.fc_in = nn.Sequential(\n",
    "            *[\n",
    "                nn.Linear(n_input, n_hidden),\n",
    "                activation()\n",
    "            ]\n",
    "        )\n",
    "\n",
    "        self.fc_hidden = nn.Sequential(\n",
    "            *[\n",
    "                nn.Sequential(*[nn.Linear(n_hidden, n_hidden), activation()]) for _ in range(0, n_hidden_layers-1)\n",
    "            ]\n",
    "        )\n",
    "\n",
    "        self.fc_out = nn.Linear(n_hidden, n_output)\n",
    "    \n",
    "    def forward(self, x):\n",
    "        x = self.fc_in(x)\n",
    "        x = self.fc_hidden(x)\n",
    "        x = self.fc_out(x)\n",
    "\n",
    "        return x"
   ]
  },
  {
   "cell_type": "markdown",
   "metadata": {},
   "source": [
    "Test the network with random data."
   ]
  },
  {
   "cell_type": "code",
   "execution_count": null,
   "metadata": {},
   "outputs": [],
   "source": [
    "print(fully_connected_network)\n",
    "\n",
    "for i in range(0, 10000):\n",
    "    random_data = torch.rand((5))\n",
    "    print(\"random_data: \", random_data)\n",
    "\n",
    "    test_nn_1 = fully_connected_network(5, 2, 10, 10)\n",
    "    result = test_nn_1(random_data)\n",
    "    print(\"result: \", result)"
   ]
  },
  {
   "cell_type": "code",
   "execution_count": null,
   "metadata": {},
   "outputs": [],
   "source": [
    "torch.manual_seed(123)"
   ]
  }
 ],
 "metadata": {
  "kernelspec": {
   "display_name": "venv",
   "language": "python",
   "name": "python3"
  },
  "language_info": {
   "codemirror_mode": {
    "name": "ipython",
    "version": 3
   },
   "file_extension": ".py",
   "mimetype": "text/x-python",
   "name": "python",
   "nbconvert_exporter": "python",
   "pygments_lexer": "ipython3",
   "version": "3.12.3"
  }
 },
 "nbformat": 4,
 "nbformat_minor": 2
}
