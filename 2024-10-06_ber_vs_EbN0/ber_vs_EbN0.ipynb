{
 "cells": [
  {
   "cell_type": "markdown",
   "metadata": {},
   "source": [
    "Resources:\n",
    "\n",
    "https://www.gaussianwaves.com/2020/07/bpsk-python-matlab-bit-error-rate-simulation/\n"
   ]
  },
  {
   "cell_type": "code",
   "execution_count": null,
   "metadata": {},
   "outputs": [],
   "source": [
    "! pip install numpy matplotlib"
   ]
  },
  {
   "cell_type": "code",
   "execution_count": 7,
   "metadata": {},
   "outputs": [],
   "source": [
    "import numpy as np\n",
    "import matplotlib.pyplot as plt"
   ]
  },
  {
   "cell_type": "code",
   "execution_count": null,
   "metadata": {},
   "outputs": [],
   "source": [
    "num_symbols = 10**5\n",
    "EbN0dBs = np.arange(-4, 13, 2)\n",
    "\n",
    "print(EbN0dBs)\n",
    "\n",
    "M = 4\n",
    "m = np.arange(0, M)\n",
    "A = 1.0\n",
    "constellation = A*np.cos(m/M*2.0*np.pi)\n",
    "\n",
    "print(m)\n",
    "print(constellation)"
   ]
  },
  {
   "cell_type": "code",
   "execution_count": null,
   "metadata": {},
   "outputs": [],
   "source": [
    "array_1 = np.array([1, 2, 3])\n",
    "array_2 = np.random.randint(0, 3, 10)\n",
    "array_3 = array_1[array_2]\n",
    "\n",
    "print(array_1)\n",
    "print(array_2)\n",
    "print(array_3) # Never knew you could do this!"
   ]
  }
 ],
 "metadata": {
  "kernelspec": {
   "display_name": "venv",
   "language": "python",
   "name": "python3"
  },
  "language_info": {
   "codemirror_mode": {
    "name": "ipython",
    "version": 3
   },
   "file_extension": ".py",
   "mimetype": "text/x-python",
   "name": "python",
   "nbconvert_exporter": "python",
   "pygments_lexer": "ipython3",
   "version": "3.12.3"
  }
 },
 "nbformat": 4,
 "nbformat_minor": 2
}
