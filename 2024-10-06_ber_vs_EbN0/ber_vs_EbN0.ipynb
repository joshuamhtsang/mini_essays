{
 "cells": [
  {
   "cell_type": "markdown",
   "metadata": {},
   "source": [
    "Resources:\n",
    "\n",
    "https://www.gaussianwaves.com/2020/07/bpsk-python-matlab-bit-error-rate-simulation/\n",
    "\n",
    "https://www.gaussianwaves.com/2015/06/how-to-generate-awgn-noise-in-matlaboctave-without-using-in-built-awgn-function/"
   ]
  },
  {
   "cell_type": "markdown",
   "metadata": {},
   "source": [
    "Use pip to installed required packages:"
   ]
  },
  {
   "cell_type": "code",
   "execution_count": null,
   "metadata": {},
   "outputs": [],
   "source": [
    "! pip install numpy matplotlib"
   ]
  },
  {
   "cell_type": "code",
   "execution_count": 27,
   "metadata": {},
   "outputs": [],
   "source": [
    "import numpy as np\n",
    "import matplotlib.pyplot as plt"
   ]
  },
  {
   "cell_type": "code",
   "execution_count": 28,
   "metadata": {},
   "outputs": [],
   "source": [
    "def num_bits_per_symbol(M):\n",
    "    \"\"\"\n",
    "    Compute the number of bits per symbol e.g. if M = 8, then k = 3\n",
    "    \"\"\"\n",
    "    k = np.log2(M)\n",
    "    return k"
   ]
  },
  {
   "cell_type": "code",
   "execution_count": 29,
   "metadata": {},
   "outputs": [],
   "source": [
    "def compute_M_PSK_constellation(M, A):\n",
    "    \"\"\"\n",
    "    M : Number of symbols in the constellation e.g. M=2 for BPSK\n",
    "    A : Amplitude\n",
    "    \"\"\"\n",
    "    constellation_points = []\n",
    "    for m in range(0,M):\n",
    "        constellation_points.append(np.array([\n",
    "            A*np.cos(m/M*2.0*np.pi),  # in-phase component,   I\n",
    "            A*np.sin(m/M*2.0*np.pi)   # quadrature component, Q\n",
    "        ]))\n",
    "    constellation = np.asarray(constellation_points)\n",
    "\n",
    "    constellation_lookup_table = {}\n",
    "    for m in range(0,M):\n",
    "        print(type(m))\n",
    "        constellation_lookup_table[m] = np.binary_repr(m, width=int(num_bits_per_symbol(M)))\n",
    "\n",
    "    return constellation, constellation_lookup_table\n"
   ]
  },
  {
   "cell_type": "markdown",
   "metadata": {},
   "source": [
    "Try the constellation computation:"
   ]
  },
  {
   "cell_type": "code",
   "execution_count": null,
   "metadata": {},
   "outputs": [],
   "source": [
    "M4_constellation, M4_constellation_table = compute_M_PSK_constellation(4, 1)\n",
    "print(M4_constellation_table)\n",
    "plt.scatter(M4_constellation[:, 0], M4_constellation[:, 1])\n",
    "plt.axhline(0, color='black', linewidth=.5)\n",
    "plt.axvline(0, color='black', linewidth=.5)\n",
    "plt.xlabel(\"I, in-phase\")\n",
    "plt.ylabel(\"Q, quadrature\")"
   ]
  },
  {
   "cell_type": "code",
   "execution_count": null,
   "metadata": {},
   "outputs": [],
   "source": [
    "M8_constellation, M8_constellation_table = compute_M_PSK_constellation(8, 1)\n",
    "plt.scatter(M8_constellation[:, 0], M8_constellation[:, 1])\n",
    "plt.axhline(0, color='black', linewidth=.5)\n",
    "plt.axvline(0, color='black', linewidth=.5)\n",
    "plt.xlabel(\"I, in-phase\")\n",
    "plt.ylabel(\"Q, quadrature\")"
   ]
  },
  {
   "cell_type": "code",
   "execution_count": 32,
   "metadata": {},
   "outputs": [],
   "source": [
    "def convert_binary_array_to_decimal(array_in):\n",
    "    num_bits = np.shape(array_in)[-1]\n",
    "    two_powers = []\n",
    "    for i in range(num_bits, 0, -1):\n",
    "        two_powers.append(2**(i-1))\n",
    "    two_powers = np.asarray(two_powers)\n",
    "    decimal = array_in.dot(two_powers)\n",
    "    decimal = decimal.astype(int)\n",
    "    return(decimal)\n"
   ]
  },
  {
   "cell_type": "code",
   "execution_count": null,
   "metadata": {},
   "outputs": [],
   "source": [
    "print(convert_binary_array_to_decimal(np.array([1,0,1])))"
   ]
  },
  {
   "cell_type": "code",
   "execution_count": 34,
   "metadata": {},
   "outputs": [],
   "source": [
    "def modulate(bit_sequence, constellation, M):\n",
    "    # Divide the bit_sequence into batches each of size k\n",
    "    # Map the bit batches to the constellation\n",
    "    k = num_bits_per_symbol(M)\n",
    "    batches = np.split(bit_sequence, np.shape(bit_sequence)[-1]/k) # risky\n",
    "    print(\"batches = \\n\", batches)\n",
    "    batches = np.asarray(batches)\n",
    "    print(\"batches (as array) = \\n\", batches)\n",
    "    decimals = convert_binary_array_to_decimal(batches)\n",
    "    print(\"decimal = \\n\", decimals)\n",
    "    print(\"constellation = \\n\", constellation)\n",
    "    signal = constellation[decimals]\n",
    "    print(\"signal = \\n\", signal)\n",
    "    return signal"
   ]
  },
  {
   "cell_type": "code",
   "execution_count": null,
   "metadata": {},
   "outputs": [],
   "source": [
    "signal = modulate(np.array([1,0,0,1,1,1]), M8_constellation, 8)"
   ]
  },
  {
   "cell_type": "code",
   "execution_count": null,
   "metadata": {},
   "outputs": [],
   "source": [
    "# TO DO:  thnk about how to compute the power in the signal.  I think it needs to involve computing \n",
    "# the distance of each symbol from the IQ diagram origin\n",
    "print(sum(signal**2/len(signal))) # too simplistic, each symbol should have equal power, as all that's different is the phase."
   ]
  },
  {
   "cell_type": "code",
   "execution_count": 37,
   "metadata": {},
   "outputs": [],
   "source": [
    "def find_nearest_constellation_point(point_in, constellation, constellation_table):\n",
    "    distances = []\n",
    "    for point in constellation:\n",
    "        compute_distance = lambda x_in, y_in, x_fix, y_fix : np.sqrt((x_in-x_fix)**2 + (y_in-y_fix)**2)\n",
    "        distance = compute_distance(point_in[0], point_in[1], point[0], point[1])\n",
    "        distances.append(distance)\n",
    "    print(distances)\n",
    "    index_of_closest_point = np.argmin(distances)\n",
    "    symbol = constellation_table[index_of_closest_point]\n",
    "    return symbol"
   ]
  },
  {
   "cell_type": "code",
   "execution_count": null,
   "metadata": {},
   "outputs": [],
   "source": [
    "print(find_nearest_constellation_point(np.array([1.0, 1.0]), M8_constellation, M8_constellation_table))"
   ]
  },
  {
   "cell_type": "code",
   "execution_count": 39,
   "metadata": {},
   "outputs": [],
   "source": [
    "def add_awgn_from_channel(tx_signal, EbN0dB, k):\n",
    "    gamma = 10**(EbN0dB*k/10)  # Convert EbN0 to SNR in linear scale (not in dBs), not sure if multiply by k is correct...\n",
    "    signal_power = sum(abs(tx_signal)**2)/len(tx_signal) # this is wrong from general case of not BPSK, see above.\n",
    "    noise_spectral_density = None\n",
    "    noise_vector = None\n",
    "    rx_signal = tx_signal + noise_vector\n",
    "    return rx_signal"
   ]
  },
  {
   "cell_type": "code",
   "execution_count": 40,
   "metadata": {},
   "outputs": [],
   "source": [
    "def demodulate(constellation):\n",
    "    \n",
    "    return None"
   ]
  },
  {
   "cell_type": "code",
   "execution_count": null,
   "metadata": {},
   "outputs": [],
   "source": [
    "num_symbols = 10**5\n",
    "EbN0dBs = np.arange(-4, 13, 2)\n",
    "\n",
    "print(EbN0dBs)"
   ]
  }
 ],
 "metadata": {
  "kernelspec": {
   "display_name": "venv",
   "language": "python",
   "name": "python3"
  },
  "language_info": {
   "codemirror_mode": {
    "name": "ipython",
    "version": 3
   },
   "file_extension": ".py",
   "mimetype": "text/x-python",
   "name": "python",
   "nbconvert_exporter": "python",
   "pygments_lexer": "ipython3",
   "version": "3.12.3"
  }
 },
 "nbformat": 4,
 "nbformat_minor": 2
}
