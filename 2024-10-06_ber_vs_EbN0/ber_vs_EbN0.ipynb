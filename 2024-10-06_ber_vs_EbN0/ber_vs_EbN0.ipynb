{
 "cells": [
  {
   "cell_type": "markdown",
   "metadata": {},
   "source": [
    "Resources:\n",
    "\n",
    "https://www.gaussianwaves.com/2020/07/bpsk-python-matlab-bit-error-rate-simulation/\n",
    "\n",
    "https://www.gaussianwaves.com/2015/06/how-to-generate-awgn-noise-in-matlaboctave-without-using-in-built-awgn-function/"
   ]
  },
  {
   "cell_type": "markdown",
   "metadata": {},
   "source": [
    "Use pip to installed required packages:"
   ]
  },
  {
   "cell_type": "code",
   "execution_count": null,
   "metadata": {},
   "outputs": [],
   "source": [
    "! pip install numpy matplotlib"
   ]
  },
  {
   "cell_type": "code",
   "execution_count": 100,
   "metadata": {},
   "outputs": [],
   "source": [
    "import numpy as np\n",
    "import matplotlib.pyplot as plt"
   ]
  },
  {
   "cell_type": "code",
   "execution_count": 101,
   "metadata": {},
   "outputs": [],
   "source": [
    "def compute_M_PSK_constellation(M, A):\n",
    "    \"\"\"\n",
    "    M : Number of symbols in the constellation e.g. M=2 for BPSK\n",
    "    A : Amplitude\n",
    "    \"\"\"\n",
    "    constellation_points = []\n",
    "    for m in range(0,M):\n",
    "        constellation_points.append(np.array([\n",
    "            A*np.cos(m/M*2.0*np.pi),  # in-phase component,   I\n",
    "            A*np.sin(m/M*2.0*np.pi)   # quadrature component, Q\n",
    "        ]))\n",
    "    constellation = np.asarray(constellation_points)\n",
    "\n",
    "    return constellation\n"
   ]
  },
  {
   "cell_type": "markdown",
   "metadata": {},
   "source": [
    "Try the constellation computation:"
   ]
  },
  {
   "cell_type": "code",
   "execution_count": null,
   "metadata": {},
   "outputs": [],
   "source": [
    "print(compute_M_PSK_constellation(4, 1))\n",
    "print(compute_M_PSK_constellation(8, 1))"
   ]
  },
  {
   "cell_type": "code",
   "execution_count": null,
   "metadata": {},
   "outputs": [],
   "source": [
    "M4_constellation = compute_M_PSK_constellation(4, 1)\n",
    "plt.scatter(M4_constellation[:, 0], M4_constellation[:, 1])\n",
    "plt.axhline(0, color='black', linewidth=.5)\n",
    "plt.axvline(0, color='black', linewidth=.5)\n",
    "plt.xlabel(\"I, in-phase\")\n",
    "plt.ylabel(\"Q, quadrature\")"
   ]
  },
  {
   "cell_type": "code",
   "execution_count": null,
   "metadata": {},
   "outputs": [],
   "source": [
    "M8_constellation = compute_M_PSK_constellation(8, 1)\n",
    "plt.scatter(M8_constellation[:, 0], M8_constellation[:, 1])\n",
    "plt.axhline(0, color='black', linewidth=.5)\n",
    "plt.axvline(0, color='black', linewidth=.5)\n",
    "plt.xlabel(\"I, in-phase\")\n",
    "plt.ylabel(\"Q, quadrature\")"
   ]
  },
  {
   "cell_type": "code",
   "execution_count": 105,
   "metadata": {},
   "outputs": [],
   "source": [
    "def num_bits_per_symbol(M):\n",
    "    \"\"\"\n",
    "    Compute the number of bits per symbol e.g. if M = 8, then k = 3\n",
    "    \"\"\"\n",
    "    k = np.log2(M)\n",
    "    return k"
   ]
  },
  {
   "cell_type": "code",
   "execution_count": 125,
   "metadata": {},
   "outputs": [],
   "source": [
    "def convert_binary_array_to_decimal(array_in):\n",
    "    num_bits = np.shape(array_in)[-1]\n",
    "    two_powers = []\n",
    "    for i in range(num_bits, 0, -1):\n",
    "        two_powers.append(2**(i-1))\n",
    "    two_powers = np.asarray(two_powers)\n",
    "    decimal = array_in.dot(two_powers)\n",
    "    decimal = decimal.astype(int)\n",
    "    return(decimal)\n"
   ]
  },
  {
   "cell_type": "code",
   "execution_count": null,
   "metadata": {},
   "outputs": [],
   "source": [
    "print(convert_binary_array_to_decimal(np.array([1,0,1])))"
   ]
  },
  {
   "cell_type": "code",
   "execution_count": 128,
   "metadata": {},
   "outputs": [],
   "source": [
    "def modulate(bit_sequence, constellation, M):\n",
    "    # Divide the bit_sequence into batches each of size k\n",
    "    # Map the bit batches to the constellation\n",
    "    k = num_bits_per_symbol(M)\n",
    "    batches = np.split(bit_sequence, np.shape(bit_sequence)[-1]/k) # risky\n",
    "    print(batches)\n",
    "    batches = np.asarray(batches)\n",
    "    print(batches)\n",
    "    decimals = convert_binary_array_to_decimal(batches)\n",
    "    print(decimals)\n",
    "    print(constellation)\n",
    "    signal = constellation[decimals]\n",
    "    print(signal)\n",
    "    return None"
   ]
  },
  {
   "cell_type": "code",
   "execution_count": null,
   "metadata": {},
   "outputs": [],
   "source": [
    "modulate(np.array([1,0,0,1,1,1]), M8_constellation, 8)"
   ]
  },
  {
   "cell_type": "code",
   "execution_count": 95,
   "metadata": {},
   "outputs": [],
   "source": [
    "def demodulate(constellation):\n",
    "    return None"
   ]
  },
  {
   "cell_type": "code",
   "execution_count": null,
   "metadata": {},
   "outputs": [],
   "source": [
    "num_symbols = 10**5\n",
    "EbN0dBs = np.arange(-4, 13, 2)\n",
    "\n",
    "print(EbN0dBs)\n",
    "\n",
    "M = 4\n",
    "m = np.arange(0, M)\n"
   ]
  },
  {
   "cell_type": "code",
   "execution_count": null,
   "metadata": {},
   "outputs": [],
   "source": [
    "A = 1.0\n",
    "constellation = A*np.cos(m/M*2.0*np.pi)\n",
    "\n",
    "print(m)\n",
    "print(constellation)"
   ]
  },
  {
   "cell_type": "code",
   "execution_count": null,
   "metadata": {},
   "outputs": [],
   "source": [
    "array_1 = np.array([1, 2, 3])\n",
    "array_2 = np.random.randint(0, 3, 10)\n",
    "array_3 = array_1[array_2]\n",
    "\n",
    "print(array_1)\n",
    "print(array_2)\n",
    "print(array_3) # Never knew you could do this!"
   ]
  }
 ],
 "metadata": {
  "kernelspec": {
   "display_name": "venv",
   "language": "python",
   "name": "python3"
  },
  "language_info": {
   "codemirror_mode": {
    "name": "ipython",
    "version": 3
   },
   "file_extension": ".py",
   "mimetype": "text/x-python",
   "name": "python",
   "nbconvert_exporter": "python",
   "pygments_lexer": "ipython3",
   "version": "3.12.3"
  }
 },
 "nbformat": 4,
 "nbformat_minor": 2
}
