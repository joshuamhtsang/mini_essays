{
 "cells": [
  {
   "cell_type": "code",
   "execution_count": null,
   "metadata": {},
   "outputs": [],
   "source": [
    "!pip install numpy opencv-python matplotlib"
   ]
  },
  {
   "cell_type": "code",
   "execution_count": 2,
   "metadata": {},
   "outputs": [],
   "source": [
    "import cv2 as cv\n",
    "import numpy as np\n",
    "from matplotlib import pyplot as plt"
   ]
  },
  {
   "cell_type": "code",
   "execution_count": null,
   "metadata": {},
   "outputs": [],
   "source": [
    "# Read the image file into a matrix with OpenCV\n",
    "img_mat = cv.imread('wall_1.png', cv.IMREAD_GRAYSCALE)\n",
    "\n",
    "# First row\n",
    "print(img_mat[0])\n",
    "plt.plot(img_mat[0])"
   ]
  },
  {
   "cell_type": "code",
   "execution_count": null,
   "metadata": {},
   "outputs": [],
   "source": [
    "# Plot heatmap\n",
    "plt.imshow(img_mat, cmap='hot', interpolation='nearest')"
   ]
  },
  {
   "cell_type": "code",
   "execution_count": null,
   "metadata": {},
   "outputs": [],
   "source": [
    "# Capture webcam feed and show the frames\n",
    "cap = cv.VideoCapture(0)\n",
    "\n",
    "while True:\n",
    "    ret, frame = cap.read()\n",
    "\n",
    "    # Convert to grayscale\n",
    "    frame_gray = cv.cvtColor(frame, cv.COLOR_BGR2GRAY)\n",
    "\n",
    "    cv.imshow('Webcam', frame_gray)\n",
    "\n",
    "    if cv.waitKey(1) == ord('q'):\n",
    "        break\n",
    "\n",
    "cap.release()\n",
    "cv.destroyAllWindows()"
   ]
  },
  {
   "cell_type": "markdown",
   "metadata": {},
   "source": [
    "Try the harder example..."
   ]
  },
  {
   "cell_type": "code",
   "execution_count": 11,
   "metadata": {},
   "outputs": [
    {
     "name": "stdout",
     "output_type": "stream",
     "text": [
      "<class 'numpy.ndarray'>\n",
      "(596, 593)\n"
     ]
    },
    {
     "data": {
      "text/plain": [
       "<matplotlib.image.AxesImage at 0x750f80b820f0>"
      ]
     },
     "execution_count": 11,
     "metadata": {},
     "output_type": "execute_result"
    },
    {
     "data": {
      "image/png": "[encoded data removed]",
      "text/plain": [
       "<Figure size 640x480 with 1 Axes>"
      ]
     },
     "metadata": {},
     "output_type": "display_data"
    }
   ],
   "source": [
    "maze_img_mat = cv.imread(\"maze_test_1.png\", cv.IMREAD_GRAYSCALE)\n",
    "print(type(maze_img_mat))\n",
    "print(maze_img_mat.shape)\n",
    "\n",
    "plt.imshow(maze_img_mat, cmap='hot', interpolation='nearest')"
   ]
  },
  {
   "cell_type": "code",
   "execution_count": 29,
   "metadata": {},
   "outputs": [
    {
     "name": "stdout",
     "output_type": "stream",
     "text": [
      "height =  596 , width =  593\n",
      "(197.66666666666666, 198.66666666666666)\n",
      "0 , 0\n",
      "mid_point = 98.83 99.33\n",
      "0 , 1\n",
      "mid_point = 98.83 298.00\n",
      "0 , 2\n",
      "mid_point = 98.83 496.67\n",
      "1 , 0\n",
      "mid_point = 296.50 99.33\n",
      "1 , 1\n",
      "mid_point = 296.50 298.00\n",
      "1 , 2\n",
      "mid_point = 296.50 496.67\n",
      "2 , 0\n",
      "mid_point = 494.17 99.33\n",
      "2 , 1\n",
      "mid_point = 494.17 298.00\n",
      "2 , 2\n",
      "mid_point = 494.17 496.67\n",
      "[(98.83333333333333, 99.33333333333333), (98.83333333333333, 298.0), (98.83333333333333, 496.66666666666663), (296.5, 99.33333333333333), (296.5, 298.0), (296.5, 496.66666666666663), (494.16666666666663, 99.33333333333333), (494.16666666666663, 298.0), (494.16666666666663, 496.66666666666663)]\n"
     ]
    }
   ],
   "source": [
    "def compute_state_midpoints(img_mat, x_num_states, y_num_states):\n",
    "    img_shape = img_mat.shape\n",
    "    img_height = img_shape[0]\n",
    "    img_width = img_shape[1]\n",
    "    print(\"height = \", img_height, \", width = \", img_width)\n",
    "\n",
    "    box_size = (img_width/x_num_states, img_height/y_num_states)\n",
    "    print(box_size)\n",
    "\n",
    "    state_mid_points = []\n",
    "    for i in range(x_num_states):\n",
    "        for j in range(y_num_states):\n",
    "            print(i, \",\", j)\n",
    "            mid_point = (i*box_size[0] + box_size[0]/2.0, j*box_size[1] + box_size[1]/2.0)\n",
    "            print(\"mid_point =\", f'{mid_point[0]:.2f}', f'{mid_point[1]:.2f}')\n",
    "            state_mid_points.append(mid_point)\n",
    "    \n",
    "    return(state_mid_points)\n",
    "\n",
    "\n",
    "state_mid_points = compute_state_midpoints(maze_img_mat, 3, 3)\n",
    "print(state_mid_points)\n",
    "\n",
    "\n"
   ]
  }
 ],
 "metadata": {
  "kernelspec": {
   "display_name": ".venv",
   "language": "python",
   "name": "python3"
  },
  "language_info": {
   "codemirror_mode": {
    "name": "ipython",
    "version": 3
   },
   "file_extension": ".py",
   "mimetype": "text/x-python",
   "name": "python",
   "nbconvert_exporter": "python",
   "pygments_lexer": "ipython3",
   "version": "3.12.3"
  }
 },
 "nbformat": 4,
 "nbformat_minor": 2
}
