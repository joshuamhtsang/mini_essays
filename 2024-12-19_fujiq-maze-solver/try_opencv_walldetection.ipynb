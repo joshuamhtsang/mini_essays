{
 "cells": [
  {
   "cell_type": "code",
   "execution_count": null,
   "metadata": {},
   "outputs": [],
   "source": [
    "!pip install numpy opencv-python matplotlib"
   ]
  },
  {
   "cell_type": "code",
   "execution_count": 2,
   "metadata": {},
   "outputs": [],
   "source": [
    "import cv2 as cv\n",
    "import numpy as np\n",
    "from matplotlib import pyplot as plt\n",
    "from skimage.measure import profile_line"
   ]
  },
  {
   "cell_type": "code",
   "execution_count": null,
   "metadata": {},
   "outputs": [],
   "source": [
    "# Read the image file into a matrix with OpenCV\n",
    "img_mat = cv.imread('wall_1.png', cv.IMREAD_GRAYSCALE)\n",
    "\n",
    "# First row\n",
    "print(img_mat[0])\n",
    "plt.plot(img_mat[0])"
   ]
  },
  {
   "cell_type": "code",
   "execution_count": null,
   "metadata": {},
   "outputs": [],
   "source": [
    "# Plot heatmap\n",
    "plt.imshow(img_mat, cmap='hot', interpolation='nearest')"
   ]
  },
  {
   "cell_type": "code",
   "execution_count": 5,
   "metadata": {},
   "outputs": [],
   "source": [
    "# Capture webcam feed and show the frames\n",
    "cap = cv.VideoCapture(0)\n",
    "\n",
    "while True:\n",
    "    ret, frame = cap.read()\n",
    "\n",
    "    # Convert to grayscale\n",
    "    frame_gray = cv.cvtColor(frame, cv.COLOR_BGR2GRAY)\n",
    "\n",
    "    cv.imshow('Webcam', frame_gray)\n",
    "\n",
    "    if cv.waitKey(1) == ord('q'):\n",
    "        break\n",
    "\n",
    "cap.release()\n",
    "cv.destroyAllWindows()"
   ]
  },
  {
   "cell_type": "markdown",
   "metadata": {},
   "source": [
    "Try the harder example..."
   ]
  },
  {
   "cell_type": "code",
   "execution_count": null,
   "metadata": {},
   "outputs": [],
   "source": [
    "maze_img_mat = cv.imread(\"maze_test_1.png\", cv.IMREAD_GRAYSCALE)\n",
    "print(type(maze_img_mat))\n",
    "print(maze_img_mat.shape)\n",
    "\n",
    "plt.imshow(maze_img_mat, cmap='hot', interpolation='nearest')"
   ]
  },
  {
   "cell_type": "code",
   "execution_count": null,
   "metadata": {},
   "outputs": [],
   "source": [
    "# Known issue: this function does not account for wall thickness\n",
    "def compute_state_midpoints(img_mat, x_num_states, y_num_states):\n",
    "    img_shape = img_mat.shape\n",
    "    img_height = img_shape[0]\n",
    "    img_width = img_shape[1]\n",
    "    print(\"height = \", img_height, \", width = \", img_width)\n",
    "\n",
    "    box_size = (img_width/x_num_states, img_height/y_num_states)\n",
    "    print(box_size)\n",
    "\n",
    "    state_mid_points = []\n",
    "    for i in range(x_num_states):\n",
    "        for j in range(y_num_states):\n",
    "            print(i, \",\", j)\n",
    "            mid_point = (i*box_size[0] + box_size[0]/2.0, j*box_size[1] + box_size[1]/2.0)\n",
    "            print(\"mid_point =\", f'{mid_point[0]:.2f}', f'{mid_point[1]:.2f}')\n",
    "            state_mid_points.append(mid_point)\n",
    "    \n",
    "    return(state_mid_points)\n",
    "\n",
    "\n",
    "state_mid_points = compute_state_midpoints(maze_img_mat, 3, 3)\n",
    "print(state_mid_points)\n",
    "\n",
    "def compute_neighbouring_states(x_num_states, y_num_states):\n",
    "    neighbouring_states = []\n",
    "    total_num_states = x_num_states * y_num_states\n",
    "    print(total_num_states)\n",
    "\n",
    "    if x_num_states > 2 and y_num_states > 2:\n",
    "        # top band states\n",
    "        for i in range(0, x_num_states):\n",
    "            print(i)\n",
    "            # top left corner state (state 0)\n",
    "            if i % x_num_states == 0:\n",
    "                neighbouring_states.append([1, x_num_states])\n",
    "            # top right corner state\n",
    "            elif i % x_num_states == x_num_states-1:\n",
    "                neighbouring_states.append([2*x_num_states-1, x_num_states-2])\n",
    "            # top edge states\n",
    "            else:\n",
    "                neighbouring_states.append([i+1, i+x_num_states, i-1])\n",
    "\n",
    "        # mid band states\n",
    "        for i in range(x_num_states, total_num_states-x_num_states):\n",
    "            #print(i)\n",
    "            # left edge states\n",
    "            if i % x_num_states == 0:\n",
    "                neighbouring_states.append([i-x_num_states, i+1, i+x_num_states])\n",
    "            # right edge states\n",
    "            elif i % x_num_states == x_num_states-1:\n",
    "                neighbouring_states.append([i-x_num_states, i+x_num_states, i-1])\n",
    "            # middle states\n",
    "            else:\n",
    "                neighbouring_states.append([i-x_num_states, i+1, i+x_num_states, i-1])\n",
    "        \n",
    "        # bottom band states\n",
    "        for i in range(total_num_states-x_num_states, total_num_states):\n",
    "            print(i)\n",
    "            # bottom left corner state\n",
    "            if i % x_num_states == 0:\n",
    "                neighbouring_states.append([i-x_num_states, i+1])\n",
    "            # bottom right corner state\n",
    "            elif i % x_num_states == x_num_states-1:\n",
    "                neighbouring_states.append([i-x_num_states, i-1])\n",
    "            # bottom edge states\n",
    "            else:\n",
    "                neighbouring_states.append([i-x_num_states, i+1, i-1])\n",
    "\n",
    "    \n",
    "    print(neighbouring_states)\n",
    "    return neighbouring_states\n",
    "\n",
    "neighbouring_states = compute_neighbouring_states(3, 3)\n",
    "\n",
    "\n",
    "\n"
   ]
  },
  {
   "cell_type": "code",
   "execution_count": null,
   "metadata": {},
   "outputs": [],
   "source": [
    "def check_wall_presence(state_a, state_b, state_mid_points, img_mat):\n",
    "    profile = profile_line(img_mat, state_mid_points[state_a], state_mid_points[state_b], linewidth=1, mode='constant')\n",
    "    plt.plot(profile, '--bo')\n",
    "\n",
    "    # A wall is considered present if > x% of grayscale values are less than 10\n",
    "    num_lt_10 = 0\n",
    "    num_gt_10 = 0\n",
    "    for i in range(0, len(profile)):\n",
    "        # boom!\n",
    "        if profile[i] < 10:\n",
    "            # do something\n",
    "            num_lt_10 += 1\n",
    "        else:\n",
    "            # do something\n",
    "            num_gt_10 += 1\n",
    "    #print(\"No. values less than 10 = \", num_lt_10)\n",
    "    #print(\"No. values greater than 10 = \", num_gt_10)\n",
    "\n",
    "    fraction_lt_10 = num_lt_10 / len(profile)\n",
    "    #print(fraction_lt_10)\n",
    "\n",
    "    if fraction_lt_10 > 0.025:\n",
    "        return True\n",
    "    else:\n",
    "        return False\n",
    "        \n",
    "\n",
    "print(check_wall_presence(4, 7, state_mid_points, maze_img_mat))\n",
    "#check_wall_presence(3, 4, state_mid_points, maze_img_mat)"
   ]
  },
  {
   "cell_type": "code",
   "execution_count": null,
   "metadata": {},
   "outputs": [],
   "source": [
    "list_people = ['Elsie', 'Josh', 'Gabby', 'GGF', 'Mooney']\n",
    "print(list_people)\n",
    "\n",
    "num_hellos = 0\n",
    "for person_A in list_people:\n",
    "    for person_B in list_people:\n",
    "        if person_A != person_B:\n",
    "            print(person_A, \" say hello to \", person_B)\n",
    "            num_hellos += 1\n",
    "\n",
    "print(num_hellos)"
   ]
  }
 ],
 "metadata": {
  "kernelspec": {
   "display_name": ".venv",
   "language": "python",
   "name": "python3"
  },
  "language_info": {
   "codemirror_mode": {
    "name": "ipython",
    "version": 3
   },
   "file_extension": ".py",
   "mimetype": "text/x-python",
   "name": "python",
   "nbconvert_exporter": "python",
   "pygments_lexer": "ipython3",
   "version": "3.12.3"
  }
 },
 "nbformat": 4,
 "nbformat_minor": 2
}
