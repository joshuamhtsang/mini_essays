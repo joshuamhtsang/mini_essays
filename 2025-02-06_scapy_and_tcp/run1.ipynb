{
 "cells": [
  {
   "cell_type": "code",
   "execution_count": 36,
   "metadata": {},
   "outputs": [],
   "source": [
    "import scapy.all as scapy\n",
    "import json as json\n"
   ]
  },
  {
   "cell_type": "code",
   "execution_count": 37,
   "metadata": {},
   "outputs": [
    {
     "name": "stdout",
     "output_type": "stream",
     "text": [
      "Scapy demo 1\n",
      "Source   Index  Name                                       MAC                 IPv4             IPv6                     \n",
      "libpcap  1      Software Loopback Interface 1              00:00:00:00:00:00   127.0.0.1        ::1                      \n",
      "libpcap  10     WAN Miniport (IP)                                                                                        \n",
      "libpcap  11     WAN Miniport (Network Monitor)                                                                           \n",
      "libpcap  12     Intel(R) Wi-Fi 6E AX211 160MHz             Intel:ad:a0:ac      10.15.131.208    fe80::ce06:52c8:abce:6e9f\n",
      "libpcap  14     VirtualBox Host-Only Ethernet Adapter      0a:00:27:00:00:0e   192.168.56.1     fe80::7996:8b11:8509:e21 \n",
      "libpcap  15     WAN Miniport (IPv6)                                                                                      \n",
      "libpcap  20     Microsoft Wi-Fi Direct Virtual Adapter     Intel:ad:a0:ad      169.254.245.121  fe80::8554:9032:1500:2d99\n",
      "libpcap  49     Hyper-V Virtual Ethernet Adapter           Microsoft:38:01:00  172.18.32.1      fe80::439:4ccd:7ea4:4b37 \n",
      "libpcap  7      Microsoft Wi-Fi Direct Virtual Adapter #2  f6:ce:23:ad:a0:ac   169.254.54.147   fe80::1687:7736:ba64:cb9d\n",
      "i =  0 , iface name =  Local Area Connection* 9\n",
      "i =  1 , iface name =  Local Area Connection* 8\n",
      "i =  2 , iface name =  Local Area Connection* 7\n",
      "i =  3 , iface name =  vEthernet (Default Switch)\n",
      "i =  4 , iface name =  WiFi 2\n",
      "i =  5 , iface name =  Local Area Connection* 10\n",
      "i =  6 , iface name =  Local Area Connection* 1\n",
      "i =  7 , iface name =  Ethernet 2\n",
      "i =  8 , iface name =  Loopback Pseudo-Interface 1\n",
      "You have chosen index:  4\n",
      "Corresponding iface name:  WiFi 2\n",
      "<Sniffed: TCP:5 UDP:0 ICMP:0 Other:0>\n"
     ]
    }
   ],
   "source": [
    "if __name__ == '__main__':\n",
    "    print(\"Scapy demo 1\")\n",
    "\n",
    "    ifaces = scapy.conf.ifaces\n",
    "\n",
    "    import pprint\n",
    "    pp = pprint.PrettyPrinter(depth=4)\n",
    "    pp.pprint(ifaces)\n",
    "    # Display info to help user see interfaces of interest\n",
    "    for i, iface_key in enumerate(ifaces.keys()):\n",
    "        print(\"i = \", i, \", iface name = \", ifaces[iface_key].name)\n",
    "\n",
    "    iface_index = int(input(\"Please enter the index number for the interface to sniff: \"))\n",
    "    print(\"You have chosen index: \", iface_index)\n",
    "    iface_name = ifaces[list(ifaces.keys())[iface_index]].name\n",
    "    print(\"Corresponding iface name: \", iface_name)\n",
    "\n",
    "    capture = scapy.sniff(iface=iface_name, count=5, timeout=5)\n",
    "\n",
    "    print(capture)"
   ]
  }
 ],
 "metadata": {
  "kernelspec": {
   "display_name": ".venv",
   "language": "python",
   "name": "python3"
  },
  "language_info": {
   "codemirror_mode": {
    "name": "ipython",
    "version": 3
   },
   "file_extension": ".py",
   "mimetype": "text/x-python",
   "name": "python",
   "nbconvert_exporter": "python",
   "pygments_lexer": "ipython3",
   "version": "3.12.2"
  }
 },
 "nbformat": 4,
 "nbformat_minor": 2
}
