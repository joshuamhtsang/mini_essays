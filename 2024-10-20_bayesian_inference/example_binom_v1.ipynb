{
 "cells": [
  {
   "cell_type": "code",
   "execution_count": 1,
   "metadata": {},
   "outputs": [
    {
     "name": "stdout",
     "output_type": "stream",
     "text": [
      "Requirement already satisfied: numpy in ./venv/lib/python3.12/site-packages (2.1.2)\n",
      "Requirement already satisfied: scipy in ./venv/lib/python3.12/site-packages (1.14.1)\n"
     ]
    }
   ],
   "source": [
    "!pip install numpy scipy"
   ]
  },
  {
   "cell_type": "code",
   "execution_count": 2,
   "metadata": {},
   "outputs": [],
   "source": [
    "import numpy as np\n",
    "from scipy import stats\n",
    "\n"
   ]
  },
  {
   "cell_type": "code",
   "execution_count": 22,
   "metadata": {},
   "outputs": [
    {
     "name": "stdout",
     "output_type": "stream",
     "text": [
      "[0.00097656 0.00976563 0.04394531 0.1171875  0.20507812 0.24609375\n",
      " 0.20507812 0.1171875  0.04394531 0.00976563 0.00097656]\n"
     ]
    }
   ],
   "source": [
    "n = 10\n",
    "p = 0.5\n",
    "k = 6\n",
    "\n",
    "\n",
    "print(stats.binom.pmf([0,1,2,3,4,5,6,7,8,9, 10], n, p))"
   ]
  },
  {
   "cell_type": "code",
   "execution_count": 20,
   "metadata": {},
   "outputs": [
    {
     "name": "stdout",
     "output_type": "stream",
     "text": [
      "0.04015820332030484\n"
     ]
    }
   ],
   "source": [
    "print(stats.norm.pdf(4.0, loc=0.0, scale=9.0))"
   ]
  },
  {
   "cell_type": "code",
   "execution_count": 29,
   "metadata": {},
   "outputs": [
    {
     "name": "stdout",
     "output_type": "stream",
     "text": [
      "0.0029712957516479076\n"
     ]
    }
   ],
   "source": [
    "nessie_weights = np.array([14.0, 15.5, 17.9])\n",
    "\n",
    "mu = 16.0    # mean\n",
    "sigma = 3.0 # standard deviation\n",
    "\n",
    "likelihood = stats.norm.pdf(14.0, loc=16.0, scale=2.0) * \\\n",
    "    stats.norm.pdf(15.5, loc=16.0, scale=2.0) * \\\n",
    "    stats.norm.pdf(17.9, loc=16.0, scale=2.0)\n",
    "\n",
    "print(likelihood)"
   ]
  }
 ],
 "metadata": {
  "kernelspec": {
   "display_name": "venv",
   "language": "python",
   "name": "python3"
  },
  "language_info": {
   "codemirror_mode": {
    "name": "ipython",
    "version": 3
   },
   "file_extension": ".py",
   "mimetype": "text/x-python",
   "name": "python",
   "nbconvert_exporter": "python",
   "pygments_lexer": "ipython3",
   "version": "3.12.3"
  }
 },
 "nbformat": 4,
 "nbformat_minor": 2
}
