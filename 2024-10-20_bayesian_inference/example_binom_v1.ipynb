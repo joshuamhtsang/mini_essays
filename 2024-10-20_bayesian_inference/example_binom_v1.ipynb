{
 "cells": [
  {
   "cell_type": "code",
   "execution_count": 1,
   "metadata": {},
   "outputs": [
    {
     "name": "stdout",
     "output_type": "stream",
     "text": [
      "Requirement already satisfied: numpy in ./venv/lib/python3.12/site-packages (2.1.2)\n",
      "Requirement already satisfied: scipy in ./venv/lib/python3.12/site-packages (1.14.1)\n"
     ]
    }
   ],
   "source": [
    "!pip install numpy scipy"
   ]
  },
  {
   "cell_type": "code",
   "execution_count": null,
   "metadata": {},
   "outputs": [],
   "source": [
    "import numpy as np\n",
    "from scipy import stats"
   ]
  },
  {
   "cell_type": "code",
   "execution_count": 3,
   "metadata": {},
   "outputs": [
    {
     "name": "stdout",
     "output_type": "stream",
     "text": [
      "[0.00097656 0.00976563 0.04394531 0.1171875  0.20507812 0.24609375\n",
      " 0.20507812 0.1171875  0.04394531 0.00976563 0.00097656]\n"
     ]
    }
   ],
   "source": [
    "n = 10\n",
    "p = 0.5\n",
    "k = 6\n",
    "\n",
    "\n",
    "print(stats.binom.pmf([0,1,2,3,4,5,6,7,8,9, 10], n, p))"
   ]
  },
  {
   "cell_type": "code",
   "execution_count": 4,
   "metadata": {},
   "outputs": [
    {
     "name": "stdout",
     "output_type": "stream",
     "text": [
      "0.04015820332030484\n"
     ]
    }
   ],
   "source": [
    "print(stats.norm.pdf(4.0, loc=0.0, scale=9.0))"
   ]
  },
  {
   "cell_type": "code",
   "execution_count": 5,
   "metadata": {},
   "outputs": [
    {
     "name": "stdout",
     "output_type": "stream",
     "text": [
      "0.0029712957516479076\n",
      "[10.  10.5 11.  11.5 12.  12.5 13.  13.5 14.  14.5 15.  15.5 16.  16.5\n",
      " 17.  17.5 18.  18.5 19.  19.5]\n",
      "[0.2 0.4 0.6 0.8 1.  1.2 1.4 1.6 1.8]\n",
      "10.0\n",
      "10.5\n",
      "11.0\n",
      "11.5\n",
      "12.0\n",
      "12.5\n",
      "13.0\n",
      "13.5\n",
      "14.0\n",
      "14.5\n",
      "15.0\n",
      "15.5\n",
      "16.0\n",
      "16.5\n",
      "17.0\n",
      "17.5\n",
      "18.0\n",
      "18.5\n",
      "19.0\n",
      "19.5\n"
     ]
    }
   ],
   "source": [
    "nessie_weights = np.array([14.0, 15.5, 17.9])\n",
    "\n",
    "mu = 16.0    # mean\n",
    "sigma = 3.0 # standard deviation\n",
    "\n",
    "likelihood = stats.norm.pdf(14.0, loc=16.0, scale=2.0) * \\\n",
    "    stats.norm.pdf(15.5, loc=16.0, scale=2.0) * \\\n",
    "    stats.norm.pdf(17.9, loc=16.0, scale=2.0)\n",
    "\n",
    "print(likelihood)\n",
    "\n",
    "mu_range = np.arange(10.0, 20.0, 0.5)\n",
    "print(mu_range)\n",
    "\n",
    "sigma_range = np.arange(0.2, 2.0, 0.2)\n",
    "print(sigma_range)\n",
    "\n",
    "for mu in mu_range:\n",
    "    print(mu)\n"
   ]
  }
 ],
 "metadata": {
  "kernelspec": {
   "display_name": "venv",
   "language": "python",
   "name": "python3"
  },
  "language_info": {
   "codemirror_mode": {
    "name": "ipython",
    "version": 3
   },
   "file_extension": ".py",
   "mimetype": "text/x-python",
   "name": "python",
   "nbconvert_exporter": "python",
   "pygments_lexer": "ipython3",
   "version": "3.12.3"
  }
 },
 "nbformat": 4,
 "nbformat_minor": 2
}
