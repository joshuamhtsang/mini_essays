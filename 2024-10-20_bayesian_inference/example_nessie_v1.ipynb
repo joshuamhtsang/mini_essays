{
 "cells": [
  {
   "cell_type": "code",
   "execution_count": null,
   "metadata": {},
   "outputs": [],
   "source": [
    "!pip install numpy scipy matplotlib"
   ]
  },
  {
   "cell_type": "code",
   "execution_count": null,
   "metadata": {},
   "outputs": [],
   "source": [
    "import numpy as np\n",
    "from scipy import stats\n",
    "import matplotlib.pyplot as plt"
   ]
  },
  {
   "cell_type": "code",
   "execution_count": null,
   "metadata": {},
   "outputs": [],
   "source": [
    "def compute_likelihood(data, mu, sigma):\n",
    "    result = 1.0\n",
    "    for data_value in data:\n",
    "        result *= stats.norm.pdf(data_value, loc=mu, scale=sigma)\n",
    "    return result"
   ]
  },
  {
   "cell_type": "code",
   "execution_count": null,
   "metadata": {},
   "outputs": [],
   "source": [
    "print(stats.norm.pdf(4.0, loc=0.0, scale=9.0))"
   ]
  },
  {
   "cell_type": "code",
   "execution_count": null,
   "metadata": {},
   "outputs": [],
   "source": [
    "nessie_weights = np.array([14.0, 15.5, 17.9])\n",
    "\n",
    "mu_range = np.arange(10.0, 20.0, 0.5)\n",
    "print(mu_range)\n",
    "\n",
    "sigma_range = np.arange(0.2, 2.0, 0.2)\n",
    "print(sigma_range)\n",
    "\n",
    "prob_mu = []\n",
    "for mu_value in mu_range:\n",
    "    prob_mu.append(compute_likelihood(nessie_weights, mu_value, 2.0))\n",
    "    print(mu_value, \" => \", compute_likelihood(nessie_weights, mu_value, 2.0))"
   ]
  },
  {
   "cell_type": "code",
   "execution_count": null,
   "metadata": {},
   "outputs": [],
   "source": [
    "plt.bar(mu_range, prob_mu, width=0.3)\n",
    "\n",
    "plt.xlabel(r\"$\\mu$\")\n",
    "plt.ylabel(r\"$\\theta$\")\n",
    "plt.title(r\"$P(D|\\mu$) where $\\sigma = 2.0$\")\n",
    "plt.legend()\n",
    "plt.show()"
   ]
  }
 ],
 "metadata": {
  "kernelspec": {
   "display_name": "venv",
   "language": "python",
   "name": "python3"
  },
  "language_info": {
   "codemirror_mode": {
    "name": "ipython",
    "version": 3
   },
   "file_extension": ".py",
   "mimetype": "text/x-python",
   "name": "python",
   "nbconvert_exporter": "python",
   "pygments_lexer": "ipython3",
   "version": "3.12.3"
  }
 },
 "nbformat": 4,
 "nbformat_minor": 2
}
