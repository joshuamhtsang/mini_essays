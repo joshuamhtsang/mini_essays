{
 "cells": [
  {
   "cell_type": "code",
   "execution_count": null,
   "metadata": {},
   "outputs": [],
   "source": [
    "!pip install numpy scipy matplotlib"
   ]
  },
  {
   "cell_type": "code",
   "execution_count": null,
   "metadata": {},
   "outputs": [],
   "source": [
    "import numpy as np\n",
    "from scipy import stats\n",
    "import matplotlib.pyplot as plt"
   ]
  },
  {
   "cell_type": "code",
   "execution_count": null,
   "metadata": {},
   "outputs": [],
   "source": [
    "\"\"\"\n",
    "A function to compute P(data|theta) for a Normal distribution=\n",
    "\"\"\"\n",
    "def compute_likelihood(data, mu, sigma):\n",
    "    result = 1.0\n",
    "    for data_value in data:\n",
    "        result *= stats.norm.pdf(data_value, loc=mu, scale=sigma)\n",
    "    return result"
   ]
  },
  {
   "cell_type": "code",
   "execution_count": null,
   "metadata": {},
   "outputs": [],
   "source": [
    "nessie_weights = np.array([14.0, 15.5, 17.9])"
   ]
  },
  {
   "cell_type": "code",
   "execution_count": null,
   "metadata": {},
   "outputs": [],
   "source": [
    "x_range = np.arange(10.0, 25.0, 0.1)\n",
    "y_range = stats.norm.pdf(x_range, loc=17.0, scale=2.0)\n",
    "\n",
    "markers_on = ((nessie_weights - 10.0) / 0.1).tolist()\n",
    "print(markers_on)\n",
    "markers_on = [int(value) for value in markers_on]\n",
    "print(markers_on)\n",
    "\n",
    "plt.plot(x_range, y_range, '-gD', markevery=markers_on)\n",
    "plt.xlabel(r\"$x$\")\n",
    "plt.ylabel(r\"$f(x)$\")\n",
    "plt.title(r\"Normal distribution $f(x)$ where $\\mu = 17.0$ and $\\sigma = 2.0$\")\n",
    "plt.show()"
   ]
  },
  {
   "cell_type": "code",
   "execution_count": null,
   "metadata": {},
   "outputs": [],
   "source": [
    "mu_range = np.arange(10.0, 20.0, 0.5)\n",
    "print(mu_range)\n",
    "\n",
    "prob_mu = []\n",
    "for mu_value in mu_range:\n",
    "    prob_mu.append(compute_likelihood(nessie_weights, mu_value, 2.0))\n",
    "    print(mu_value, \" => \", compute_likelihood(nessie_weights, mu_value, 2.0))"
   ]
  },
  {
   "cell_type": "code",
   "execution_count": null,
   "metadata": {},
   "outputs": [],
   "source": [
    "plt.bar(mu_range, prob_mu, width=0.3)\n",
    "\n",
    "plt.xlabel(r\"$\\mu$\")\n",
    "plt.ylabel(r\"$P(D|\\mu)$\")\n",
    "plt.title(r\"$P(D|\\mu$) where $\\sigma = 2.0$\")\n",
    "plt.legend()\n",
    "plt.show()"
   ]
  },
  {
   "cell_type": "code",
   "execution_count": null,
   "metadata": {},
   "outputs": [],
   "source": [
    "sigma_range = np.arange(0.0, 3.0, 0.2)\n",
    "print(sigma_range)\n",
    "\n",
    "prob_sigma = []\n",
    "for sigma_value in sigma_range:\n",
    "    prob_sigma.append(compute_likelihood(nessie_weights, 16.0, sigma_value))\n",
    "    print(sigma_value, \" => \", compute_likelihood(nessie_weights, 16.0, sigma_value))"
   ]
  },
  {
   "cell_type": "code",
   "execution_count": null,
   "metadata": {},
   "outputs": [],
   "source": [
    "plt.bar(sigma_range, prob_sigma, width=0.1)\n",
    "\n",
    "plt.xlabel(r\"$\\sigma$\")\n",
    "plt.ylabel(r\"$P(D|\\sigma)$\")\n",
    "plt.title(r\"$P(D|\\sigma$) where $\\mu = 16.0$\")\n",
    "plt.legend()\n",
    "plt.show()"
   ]
  }
 ],
 "metadata": {
  "kernelspec": {
   "display_name": "venv",
   "language": "python",
   "name": "python3"
  },
  "language_info": {
   "codemirror_mode": {
    "name": "ipython",
    "version": 3
   },
   "file_extension": ".py",
   "mimetype": "text/x-python",
   "name": "python",
   "nbconvert_exporter": "python",
   "pygments_lexer": "ipython3",
   "version": "3.12.3"
  }
 },
 "nbformat": 4,
 "nbformat_minor": 2
}
